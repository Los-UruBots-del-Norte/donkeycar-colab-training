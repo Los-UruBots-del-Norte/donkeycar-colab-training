{
  "cells": [
    {
      "cell_type": "markdown",
      "metadata": {
        "id": "uLdjQ-JQFYVG"
      },
      "source": [
        "## Check GPU and Tensorflow version\n",
        "If \"Found GPU at: / device: GPU: 0\" is displayed, the GPU is ready to use.*italicized text*"
      ]
    },
    {
      "cell_type": "code",
      "execution_count": null,
      "metadata": {
        "colab": {
          "base_uri": "https://localhost:8080/",
          "height": 1000
        },
        "id": "F6WhKuZxJ5IK",
        "outputId": "a35418f5-51df-4f3c-a632-37207605ca60"
      },
      "outputs": [],
      "source": [
        "# Install python and training dependencies\n",
        "!apt-get update -y\n",
        "!sudo apt-get install python3.11 python3.11-distutils\n",
        "!ln -sf /usr/bin/python3.11 /usr/bin/python3\n",
        "\n",
        "!update-alternatives --install /usr/bin/python3 python3 /usr/bin/python3.11\n",
        "!update-alternatives --config python3\n",
        "\n",
        "!apt-get install python3-pip\n",
        "!python3 -m pip install --upgrade pip --user\n",
        "\n",
        "!pip3 uninstall keras-vis\n",
        "!pip3 install git+https://github.com/sctse999/keras-vis\n",
        "\n",
        "!pip3 install moviepy\n",
        "\n",
        "!pip3 install ipykernel\n",
        "\n",
        "!pip3 install imageio-ffmpeg"
      ]
    },
    {
      "cell_type": "code",
      "execution_count": null,
      "metadata": {
        "colab": {
          "base_uri": "https://localhost:8080/"
        },
        "id": "pqwkW1S46O93",
        "outputId": "17325069-868d-49ca-892d-ee979221e879"
      },
      "outputs": [],
      "source": [
        "# OPTIONAL Check installed tensorflow and python version\n",
        "!pip show tensorflow\n",
        "!python3 --version"
      ]
    },
    {
      "cell_type": "code",
      "execution_count": null,
      "metadata": {
        "colab": {
          "base_uri": "https://localhost:8080/",
          "height": 1000
        },
        "id": "Eb8y6kG-JgpW",
        "outputId": "af522da8-a309-46b7-8d9c-af8e6d9607db"
      },
      "outputs": [],
      "source": [
        "# Download and install DonkeyCar\n",
        "!git clone https://github.com/autorope/donkeycar\n",
        "%cd /content/donkeycar\n",
        "!git checkout main\n",
        "!pip3 install -e .[pc]"
      ]
    },
    {
      "cell_type": "code",
      "execution_count": null,
      "metadata": {
        "colab": {
          "base_uri": "https://localhost:8080/"
        },
        "id": "fLaAn5wXJmXB",
        "outputId": "eaa67311-128c-41e9-bab8-a937ca830097"
      },
      "outputs": [],
      "source": [
        "# Create car\n",
        "!donkey createcar --path /content/mycar"
      ]
    },
    {
      "cell_type": "code",
      "execution_count": null,
      "metadata": {
        "id": "Qve7ipmYf0IH"
      },
      "outputs": [],
      "source": [
        "# Change config in the following array of key-value pairs. KV Pairs will be changed in mycar/myconfig.py.\n",
        "config=[(\"EARLY_STOP_PATIENCE\",\"8\"),(\"CREATE_TF_LITE\",\"True\"),(\"AUGMENTATIONS\",\"[]\"),(\"BATCH_SIZE\",\"64\"),\n",
        "        (\"MAX_EPOCHS\",\"60\"),(\"OPTIMIZER\",\"sgd\"),\"\"]\n",
        "\n",
        "def update_config(file_path, key_value_pairs):\n",
        "    # Read the existing content from the file\n",
        "    with open(file_path, 'r') as file:\n",
        "        lines = file.readlines()\n",
        "\n",
        "    # Create a dictionary from the key-value pairs for quick lookup\n",
        "    updates = {key: f\"{key}={value}\\n\" for key, value in key_value_pairs}\n",
        "\n",
        "    # Replace or uncomment lines containing the keys\n",
        "    new_keys = updates.copy()\n",
        "    commented_values = {}\n",
        "    for i, line in enumerate(lines):\n",
        "        original_line = line.strip()\n",
        "        is_commented = original_line.startswith('#')\n",
        "        uncommented_line = original_line.lstrip('#').strip()\n",
        "        key_part = uncommented_line.split('=')[0].strip()\n",
        "\n",
        "        if key_part in updates:\n",
        "            # Capture the value from commented lines for possible replacement\n",
        "            if is_commented:\n",
        "                commented_values[key_part] = uncommented_line.split('=')[1].strip()\n",
        "            # Replace or uncomment the line based on its status\n",
        "            new_value = commented_values.get(key_part, updates[key_part].split('=')[1]).strip()\n",
        "\n",
        "            lines[i] = f\"{key_part}={new_value}\\n\"\n",
        "            del new_keys[key_part]\n",
        "    # Append any new keys that were not found in the file\n",
        "    lines.extend(new_keys.values())\n",
        "\n",
        "    # Write the modified content back to the file\n",
        "    with open(file_path, 'w') as file:\n",
        "        file.writelines(lines)\n",
        "\n",
        "# Example usage\n",
        "update_config('/content/mycar/myconfig.py', config)\n"
      ]
    },
    {
      "cell_type": "code",
      "execution_count": null,
      "metadata": {
        "colab": {
          "base_uri": "https://localhost:8080/"
        },
        "id": "lIvUrZ4k0w9N",
        "outputId": "f45035d7-8986-4c23-8b6d-3b0154a1387e"
      },
      "outputs": [],
      "source": [
        "# Download zips with data, follow that zip structure\n",
        "# /\n",
        "# - images/\n",
        "# - catalog_0.catalog\n",
        "# - catalog_0.catalog_manifest\n",
        "# ...\n",
        "\n",
        "%cd /content/mycar/\n",
        "!mkdir /content/mycar/data\n",
        "\n",
        "file_names = []\n",
        "file_paths = []\n",
        "\n",
        "import requests\n",
        "\n",
        "# URL of the file you want to download. If you put multiple files, you might have to change later following commands. But this and following\n",
        "# cells can process multiple zip files. Recommended free file host is mediafire, because gdrive doesn't allow direct download links above a certain size\n",
        "urls = ['<Put direct download link 1 here>']\n",
        "counter = 0\n",
        "# Send a GET request to the URL\n",
        "for url in urls:\n",
        "  response = requests.get(url)\n",
        "  # Ensure the request was successful\n",
        "  if response.status_code == 200:\n",
        "    file_name = f\"data-{counter}.zip\"\n",
        "    counter += 1\n",
        "    file_names.append(file_name)\n",
        "    with open(f'/content/{file_name}', 'wb') as f:\n",
        "        # Write the content of the response to the file\n",
        "        file_paths.append(f'/content/{file_name}')\n",
        "        f.write(response.content)\n",
        "        print(\"File downloaded successfully!\")\n",
        "  else:\n",
        "    print(\"Failed to retrieve the file. Status code:\", response.status_code)"
      ]
    },
    {
      "cell_type": "code",
      "execution_count": null,
      "metadata": {
        "colab": {
          "base_uri": "https://localhost:8080/"
        },
        "id": "RweMGL9JKnlz",
        "outputId": "0357635f-f3d9-4ac2-f430-b267c9528b55"
      },
      "outputs": [],
      "source": [
        "# Unzip downloaded files. Unzipped tubs will be in /content/data-0, /content/data-1, ...\n",
        "\n",
        "import os\n",
        "import shutil\n",
        "from google.colab import files\n",
        "\n",
        "if(os.path.exists(f\"/content/mycar/data/{file_name}\")):\n",
        "   os.remove(f\"/content/mycar/data/{file_name}\")\n",
        "file_path = \"/content/mycar/data/\" + file_name\n",
        "\n",
        "! rm -r /content/mycar/data/*\n",
        "\n",
        "import os\n",
        "\n",
        "import zipfile\n",
        "\n",
        "def unpack_zip(file_path, extract_to):\n",
        "    with zipfile.ZipFile(file_path, 'r') as zip_ref:\n",
        "        zip_ref.extractall(extract_to)\n",
        "        print(f\"Extracted all files in {file_path} to {extract_to}\")\n",
        "def unpack_file(file_path, extract_to):\n",
        "    _, file_ext = os.path.splitext(file_path)\n",
        "\n",
        "    if file_ext in ['.zip']:\n",
        "        unpack_zip(file_path, extract_to)\n",
        "    else:\n",
        "        print(f\"Unsupported file format: {file_ext}\")\n",
        "def safe_unpack_file(file_path, extract_to):\n",
        "    try:\n",
        "        print(f\"unpacking: \" + file_path)\n",
        "        unpack_file(file_path, extract_to)\n",
        "    except Exception as e:\n",
        "        print(f\"An error occurred: {e}\")\n",
        "\n",
        "print(\"-----------------------------------------------------\")\n",
        "print(f\"Uploaded {file_path}\")\n",
        "print(\"-----------------------------------------------------\")\n",
        "print(f\"found {len(file_names)} zips to unpack\")\n",
        "target_directory = \"/content/mycar/data/\"\n",
        "src_directory = \"/content/\"\n",
        "for filename in file_names:\n",
        "    if os.path.isfile(os.path.join(target_directory, filename)):  # Check if it is a file\n",
        "        # Extract the file name without the extension\n",
        "        file_base = os.path.splitext(filename)[0]\n",
        "        # Create a path for the new subfolder\n",
        "        new_folder_path = os.path.join(target_directory, file_base)\n",
        "for file_name in file_names:\n",
        "  safe_unpack_file(src_directory + file_name, (target_directory + file_name)[:-len('.zip')])"
      ]
    },
    {
      "cell_type": "code",
      "execution_count": null,
      "metadata": {
        "colab": {
          "base_uri": "https://localhost:8080/"
        },
        "id": "aAUup-yf2v7Y",
        "outputId": "192a574e-abea-44b7-efc3-80d140a5df1f"
      },
      "outputs": [],
      "source": [
        "# OPTIONAL Only needed for data collected by Donkeycar version <= 4.5.x. \n",
        "# Prepare data by replacing \"steering\" with \"user/angle\" and \"throttle\" with \"user/throttle\"\n",
        "\n",
        "import os\n",
        "import re\n",
        "\n",
        "def search_replace(directory, search_text, replace_text, file_prefixes=None):\n",
        "    for dirpath, dirnames, filenames in os.walk(directory):\n",
        "        for filename in filenames:\n",
        "            # Check if the filename starts with any of the specified prefixes\n",
        "            if file_prefixes and not any(filename.startswith(prefix) for prefix in file_prefixes):\n",
        "                continue  # Skip files that do not start with any of the specified prefixes\n",
        "\n",
        "            filepath = os.path.join(dirpath, filename)\n",
        "            # Read the content of the file\n",
        "            with open(filepath, 'r', encoding='utf-8') as file:\n",
        "                filedata = file.read()\n",
        "\n",
        "            # Replace the target string\n",
        "            filedata_new = re.sub(search_text, replace_text, filedata, flags=re.IGNORECASE)\n",
        "\n",
        "            # Write the file out again if there are changes\n",
        "            if filedata != filedata_new:\n",
        "                with open(filepath, 'w', encoding='utf-8') as file:\n",
        "                    file.write(filedata_new)\n",
        "                print(f\"Updated {filepath}\")\n",
        "\n",
        "search_text = \"\"\n",
        "replace_directory = \"/content/mycar/data\"\n",
        "\n",
        "search_replace(replace_directory, \"steering\", \"user/angle\", [\"catalog_\", \"manifest\"])\n",
        "search_replace(replace_directory, \"throttle\", \"user/throttle\", \"catalog_\")\n",
        "\n",
        "%cd /content/mycar/data/\n",
        "!echo Found images:\n",
        "!find . -type f -name \"*.jpg\" | wc -l\n",
        "\n"
      ]
    },
    {
      "cell_type": "code",
      "execution_count": null,
      "metadata": {
        "colab": {
          "base_uri": "https://localhost:8080/"
        },
        "id": "SxHKfBINaVlJ",
        "outputId": "3b0985b0-0270-4fb0-9a53-dd0033152159"
      },
      "outputs": [],
      "source": [
        "# OPTIONAL generate a movie from given tub data\n",
        "%cd /content/mycar\n",
        "!donkey makemovie --tub ./data --out tub.mp4 --start 1 --end 2000"
      ]
    },
    {
      "cell_type": "code",
      "execution_count": null,
      "metadata": {
        "colab": {
          "base_uri": "https://localhost:8080/",
          "height": 17
        },
        "id": "J1hYTrE3aZkb",
        "outputId": "27a2ac81-ccbe-4e4a-c1c3-3452d9617695"
      },
      "outputs": [],
      "source": [
        "# OPTIONAL Download result video\n",
        "from google.colab import files\n",
        "files.download(\"tub.mp4\")"
      ]
    },
    {
      "cell_type": "code",
      "execution_count": null,
      "metadata": {
        "colab": {
          "background_save": true,
          "base_uri": "https://localhost:8080/"
        },
        "id": "jerrmrSfaD_f",
        "outputId": "679fcb5c-aeeb-4bee-8a8d-b8e91b90ad65"
      },
      "outputs": [],
      "source": [
        "# Starts training!\n",
        "\n",
        "%cd /content/mycar/\n",
        "\n",
        "model_name = \"mypilot\"\n",
        "\n",
        "! donkey train --tub ./data/data-0 --model ./models/mypilot.h5"
      ]
    },
    {
      "cell_type": "code",
      "execution_count": null,
      "metadata": {
        "colab": {
          "base_uri": "https://localhost:8080/"
        },
        "id": "HwrbSzbLC41s",
        "outputId": "49b09c10-44f5-412b-f87b-b46fe06bc322"
      },
      "outputs": [],
      "source": [
        "# OPTIONAL Checks if an according tflite model could be found. (h5 and tflite will be generated, but documentation recommends\n",
        "# using the tflite model)\n",
        "!ls -alh /content/mycar/models/{model_name}.tflite"
      ]
    },
    {
      "cell_type": "code",
      "execution_count": null,
      "metadata": {
        "colab": {
          "base_uri": "https://localhost:8080/",
          "height": 514
        },
        "id": "xFteBFpUambs",
        "outputId": "574b4a3b-c216-4bb4-a989-2c57145fcbc7"
      },
      "outputs": [],
      "source": [
        "# Show loss curve\n",
        "%cd /content/mycar/models\n",
        "\n",
        "import glob\n",
        "file = glob.glob(f\"{model_name}.png\")\n",
        "\n",
        "from IPython.display import Image\n",
        "Image(file[0])"
      ]
    },
    {
      "cell_type": "code",
      "execution_count": null,
      "metadata": {
        "colab": {
          "base_uri": "https://localhost:8080/",
          "height": 34
        },
        "id": "rXqJE-_1aoue",
        "outputId": "f00f5632-ea98-4152-b4cd-a6902aa4ccf1"
      },
      "outputs": [],
      "source": [
        "# Download trained h5 model\n",
        "%cd /content/mycar/models\n",
        "from google.colab import files\n",
        "files.download(f\"{model_name}.h5\")"
      ]
    },
    {
      "cell_type": "code",
      "execution_count": null,
      "metadata": {
        "colab": {
          "base_uri": "https://localhost:8080/",
          "height": 52
        },
        "id": "Ny924oZYhGz2",
        "outputId": "15784517-208b-4585-c385-94679ca3fcc6"
      },
      "outputs": [],
      "source": [
        "# Download trained tflite model\n",
        "%cd /content/mycar/models\n",
        "from google.colab import files\n",
        "files.download(f\"{model_name}.tflite\")"
      ]
    },
    {
      "cell_type": "code",
      "execution_count": null,
      "metadata": {
        "colab": {
          "base_uri": "https://localhost:8080/"
        },
        "id": "cOjgVQOQxdzo",
        "outputId": "695936c4-198c-455c-a2f7-45c9c4cbc7d8"
      },
      "outputs": [],
      "source": [
        "# OPTIONAL generate movie from training date with predictions of generated h5 model. (If model is of type linear)\n",
        "%cd /content/mycar\n",
        "!donkey makemovie --tub ./data/data-0 --model models/{model_name}.h5 --type linear --salient  --start 1 --end 1000 --out prediction.mp4"
      ]
    },
    {
      "cell_type": "code",
      "execution_count": null,
      "metadata": {},
      "outputs": [],
      "source": [
        "# OPTIONAL Download result video\n",
        "from google.colab import files\n",
        "files.download(\"prediction.mp4\")"
      ]
    }
  ],
  "metadata": {
    "accelerator": "GPU",
    "colab": {
      "gpuType": "T4",
      "provenance": []
    },
    "kernelspec": {
      "display_name": "Python 3",
      "name": "python3"
    },
    "language_info": {
      "name": "python"
    }
  },
  "nbformat": 4,
  "nbformat_minor": 0
}
